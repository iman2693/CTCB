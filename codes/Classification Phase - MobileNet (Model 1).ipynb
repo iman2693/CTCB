{
 "cells": [
  {
   "cell_type": "markdown",
   "metadata": {},
   "source": [
    "# Classification Phase #1 -  MobileNet ( Method 1 )"
   ]
  },
  {
   "cell_type": "markdown",
   "metadata": {},
   "source": [
    "### CTCB (Classification of Toxigenic CyanoBacterial genera) project"
   ]
  },
  {
   "cell_type": "markdown",
   "metadata": {},
   "source": [
    "* **Author : Iman Kianian**\n",
    "* **Paper Link : **"
   ]
  },
  {
   "cell_type": "markdown",
   "metadata": {},
   "source": [
    "---------------"
   ]
  },
  {
   "cell_type": "markdown",
   "metadata": {},
   "source": [
    "#### Import the necessary libraries"
   ]
  },
  {
   "cell_type": "code",
   "execution_count": null,
   "metadata": {
    "executionInfo": {
     "elapsed": 1,
     "status": "ok",
     "timestamp": 1660122688022,
     "user": {
      "displayName": "Iman Kianian",
      "userId": "09329643305169804465"
     },
     "user_tz": -270
    },
    "id": "G5NHQJl4BAsQ"
   },
   "outputs": [],
   "source": [
    "import os\n",
    "import cv2\n",
    "import numpy as np\n",
    "import matplotlib.pyplot as plt\n",
    "from sklearn.model_selection import train_test_split\n",
    "from sklearn.metrics import classification_report, confusion_matrix,ConfusionMatrixDisplay\n",
    "from sklearn.preprocessing import LabelEncoder\n",
    "import collections\n",
    "from random import choices\n",
    "from sklearn.metrics import accuracy_score"
   ]
  },
  {
   "cell_type": "code",
   "execution_count": null,
   "metadata": {
    "executionInfo": {
     "elapsed": 3,
     "status": "ok",
     "timestamp": 1660123760295,
     "user": {
      "displayName": "Iman Kianian",
      "userId": "09329643305169804465"
     },
     "user_tz": -270
    },
    "id": "5QUg-_e7BCit"
   },
   "outputs": [],
   "source": [
    "import tensorflow as tf\n",
    "import keras\n",
    "from keras.models import Model\n",
    "from keras.callbacks import *\n",
    "from keras.layers import *\n",
    "from tensorflow.keras.optimizers import Adam\n",
    "from tensorflow.keras.utils import plot_model\n",
    "\n",
    "# convert to one-hot-encoding\n",
    "from keras.utils.np_utils import to_categorical \n",
    "\n",
    "# Transfer learning model\n",
    "from tensorflow.keras.applications import *\n",
    "\n",
    "# Data Augmentation\n",
    "from keras.preprocessing.image import ImageDataGenerator"
   ]
  },
  {
   "cell_type": "markdown",
   "metadata": {
    "id": "WpkmTWSIDfmJ"
   },
   "source": [
    "---------------"
   ]
  },
  {
   "cell_type": "markdown",
   "metadata": {},
   "source": [
    "### Fine Tuning"
   ]
  },
  {
   "cell_type": "markdown",
   "metadata": {},
   "source": [
    "#### Preparing Training and Test sets"
   ]
  },
  {
   "cell_type": "markdown",
   "metadata": {
    "id": "TICqf2ATDjbA"
   },
   "source": [
    "Loading Train set:"
   ]
  },
  {
   "cell_type": "code",
   "execution_count": null,
   "metadata": {
    "colab": {
     "base_uri": "https://localhost:8080/"
    },
    "executionInfo": {
     "elapsed": 390,
     "status": "ok",
     "timestamp": 1660121993811,
     "user": {
      "displayName": "Iman Kianian",
      "userId": "09329643305169804465"
     },
     "user_tz": -270
    },
    "id": "6qWyjRqWBdgd",
    "outputId": "5cf0a58e-35a2-4d0e-9d39-0f27f3de7c0f"
   },
   "outputs": [],
   "source": [
    "Categories = list(os.listdir(\"https://github.com/iman2693/CTCB/tree/main/dataset-processed/Train\"))\n",
    "Categories"
   ]
  },
  {
   "cell_type": "markdown",
   "metadata": {},
   "source": [
    "Creating dictionary from images of the training set:"
   ]
  },
  {
   "cell_type": "code",
   "execution_count": null,
   "metadata": {
    "executionInfo": {
     "elapsed": 28104,
     "status": "ok",
     "timestamp": 1660122021911,
     "user": {
      "displayName": "Iman Kianian",
      "userId": "09329643305169804465"
     },
     "user_tz": -270
    },
    "id": "iskzwg7FBm71"
   },
   "outputs": [],
   "source": [
    "images = {} # A dictionary with 10 keys includes the class names and each value is a list of images\n",
    "images_directory = {} # like images, just save image address instead of image\n",
    "for dirname in os.listdir(\"https://github.com/iman2693/CTCB/tree/main/dataset-processed/Train/\"):\n",
    "    dir = \"https://github.com/iman2693/CTCB/tree/main/dataset-processed/Train/\"+dirname\n",
    "    if os.path.isdir(dir):\n",
    "        imags = []\n",
    "        imgs_directory = []\n",
    "        for i, filename in enumerate(os.listdir(dir)):\n",
    "          if 'jpg' in filename or 'png' in filename:\n",
    "              addr = dir+\"/\"+filename\n",
    "              image = cv2.imread(addr,0)\n",
    "              image = image/255.0\n",
    "              imags.append(image)\n",
    "              imgs_directory.append(addr)\n",
    "        images[dirname] = imags\n",
    "        images_directory[dirname] = imgs_directory"
   ]
  },
  {
   "cell_type": "markdown",
   "metadata": {},
   "source": [
    "Counting all images in training set:"
   ]
  },
  {
   "cell_type": "code",
   "execution_count": null,
   "metadata": {
    "executionInfo": {
     "elapsed": 16,
     "status": "ok",
     "timestamp": 1660122021912,
     "user": {
      "displayName": "Iman Kianian",
      "userId": "09329643305169804465"
     },
     "user_tz": -270
    },
    "id": "cDqEVbqDBsss"
   },
   "outputs": [],
   "source": [
    "countofallimages = 0\n",
    "for cls in Categories:\n",
    "  countofallimages += len(images[cls])"
   ]
  },
  {
   "cell_type": "code",
   "execution_count": null,
   "metadata": {
    "colab": {
     "base_uri": "https://localhost:8080/"
    },
    "executionInfo": {
     "elapsed": 14,
     "status": "ok",
     "timestamp": 1660122021912,
     "user": {
      "displayName": "Iman Kianian",
      "userId": "09329643305169804465"
     },
     "user_tz": -270
    },
    "id": "uV9E1YkaBvGk",
    "outputId": "0110a88a-dad9-451a-9a84-73d203bacb6e"
   },
   "outputs": [],
   "source": [
    "print(f'Count of all images in Dataset = {countofallimages}')\n",
    "print(f'There are {len(Categories )} classes')\n",
    "print(f'Average number of essential images for each class is = {round(countofallimages/len(Categories))}')"
   ]
  },
  {
   "cell_type": "markdown",
   "metadata": {},
   "source": [
    "Creating a list of images and their labels :"
   ]
  },
  {
   "cell_type": "code",
   "execution_count": null,
   "metadata": {
    "executionInfo": {
     "elapsed": 11,
     "status": "ok",
     "timestamp": 1660122021913,
     "user": {
      "displayName": "Iman Kianian",
      "userId": "09329643305169804465"
     },
     "user_tz": -270
    },
    "id": "OhRKKEGYCt6G"
   },
   "outputs": [],
   "source": [
    "X = []\n",
    "y = []\n",
    "X_addr = []\n",
    "for cls in Categories:\n",
    "  for img in images[cls]:\n",
    "    X.append(img)\n",
    "    y.append(cls)\n",
    "for cls in Categories:\n",
    "  for img in images_directory[cls]:\n",
    "    X_addr.append(img)\n",
    "y = np.array(y)\n",
    "X = np.array(X)\n",
    "X_addr = np.array(X_addr)"
   ]
  },
  {
   "cell_type": "markdown",
   "metadata": {},
   "source": [
    "Count of images from each class in training set:"
   ]
  },
  {
   "cell_type": "code",
   "execution_count": null,
   "metadata": {
    "colab": {
     "base_uri": "https://localhost:8080/"
    },
    "executionInfo": {
     "elapsed": 11,
     "status": "ok",
     "timestamp": 1660122021914,
     "user": {
      "displayName": "Iman Kianian",
      "userId": "09329643305169804465"
     },
     "user_tz": -270
    },
    "id": "fDhgpCgxCxae",
    "outputId": "7b9e3899-0dbd-43f1-bbe6-b92a82d7cbd7"
   },
   "outputs": [],
   "source": [
    "counter = collections.Counter(y)\n",
    "counter"
   ]
  },
  {
   "cell_type": "markdown",
   "metadata": {
    "id": "-Lv2szPeDnvf"
   },
   "source": [
    "Split Train Dataset to training and validation dataset:"
   ]
  },
  {
   "cell_type": "code",
   "execution_count": null,
   "metadata": {
    "executionInfo": {
     "elapsed": 8,
     "status": "ok",
     "timestamp": 1660122021914,
     "user": {
      "displayName": "Iman Kianian",
      "userId": "09329643305169804465"
     },
     "user_tz": -270
    },
    "id": "Awp4sJxJC1Zm"
   },
   "outputs": [],
   "source": [
    "X_train_ind, X_val_ind, y_train, y_val = train_test_split(list(range(y.shape[0])), y, test_size=0.01,random_state=1)\n",
    "X_train_addr = X_addr[X_train_ind]\n",
    "X_train = X[X_train_ind]\n",
    "\n",
    "X_val_addr = X_addr[X_val_ind]\n",
    "X_val = X[X_val_ind]"
   ]
  },
  {
   "cell_type": "markdown",
   "metadata": {},
   "source": [
    "Count of images from each class in validation set:"
   ]
  },
  {
   "cell_type": "code",
   "execution_count": null,
   "metadata": {
    "colab": {
     "base_uri": "https://localhost:8080/"
    },
    "executionInfo": {
     "elapsed": 6,
     "status": "ok",
     "timestamp": 1660122022552,
     "user": {
      "displayName": "Iman Kianian",
      "userId": "09329643305169804465"
     },
     "user_tz": -270
    },
    "id": "_KjJbyauDNdF",
    "outputId": "08db8b4f-a6a0-43bb-affc-8fa9498fc548"
   },
   "outputs": [],
   "source": [
    "counter = collections.Counter(y_val)\n",
    "counter"
   ]
  },
  {
   "cell_type": "markdown",
   "metadata": {
    "id": "Rr_X9mgwDY5k"
   },
   "source": [
    "----------------------"
   ]
  },
  {
   "cell_type": "markdown",
   "metadata": {
    "id": "c_tFQPyPDasC"
   },
   "source": [
    "Loading the test set:"
   ]
  },
  {
   "cell_type": "code",
   "execution_count": null,
   "metadata": {
    "executionInfo": {
     "elapsed": 39428,
     "status": "ok",
     "timestamp": 1660122061978,
     "user": {
      "displayName": "Iman Kianian",
      "userId": "09329643305169804465"
     },
     "user_tz": -270
    },
    "id": "W8Ofg1F4DOmM"
   },
   "outputs": [],
   "source": [
    "images = {}\n",
    "images_directory = {}\n",
    "for dirname in os.listdir(\"https://github.com/iman2693/CTCB/tree/main/dataset-processed/Test\"):\n",
    "    dir = \"https://github.com/iman2693/CTCB/tree/main/dataset-processed/Test/\"+dirname\n",
    "    if os.path.isdir(dir):\n",
    "        imags = []\n",
    "        imgs_directory = []\n",
    "        for i, filename in enumerate(os.listdir(dir)):\n",
    "          if 'jpg' in filename or 'png' in filename:\n",
    "              addr = dir+\"/\"+filename\n",
    "              image = cv2.imread(addr,0)\n",
    "              image = image/255.0\n",
    "              imags.append(image)\n",
    "              imgs_directory.append(addr)\n",
    "        images[dirname] = imags\n",
    "        images_directory[dirname] = imgs_directory"
   ]
  },
  {
   "cell_type": "code",
   "execution_count": null,
   "metadata": {
    "executionInfo": {
     "elapsed": 11,
     "status": "ok",
     "timestamp": 1660122061979,
     "user": {
      "displayName": "Iman Kianian",
      "userId": "09329643305169804465"
     },
     "user_tz": -270
    },
    "id": "E1CSX2Y1Dx_s"
   },
   "outputs": [],
   "source": [
    "X_test = []\n",
    "y_test = []\n",
    "X_test_addr = []\n",
    "for cls in Categories:\n",
    "  for img in images[cls]:\n",
    "    X_test.append(img)\n",
    "    y_test.append(cls)\n",
    "for cls in Categories:\n",
    "  for img in images_directory[cls]:\n",
    "    X_test_addr.append(img)\n",
    "y_test = np.array(y_test)\n",
    "X_test = np.array(X_test)\n",
    "X_test_addr = np.array(X_test_addr)"
   ]
  },
  {
   "cell_type": "markdown",
   "metadata": {},
   "source": [
    "Count of images from each class in test set:"
   ]
  },
  {
   "cell_type": "code",
   "execution_count": null,
   "metadata": {
    "colab": {
     "base_uri": "https://localhost:8080/"
    },
    "executionInfo": {
     "elapsed": 10,
     "status": "ok",
     "timestamp": 1660122061979,
     "user": {
      "displayName": "Iman Kianian",
      "userId": "09329643305169804465"
     },
     "user_tz": -270
    },
    "id": "JWjEXCDLEeI0",
    "outputId": "d46640aa-1fc2-4413-d7a4-6cb4cfe7a9cb"
   },
   "outputs": [],
   "source": [
    "counter = collections.Counter(y_test)\n",
    "counter"
   ]
  },
  {
   "cell_type": "code",
   "execution_count": null,
   "metadata": {
    "executionInfo": {
     "elapsed": 7,
     "status": "ok",
     "timestamp": 1660122061979,
     "user": {
      "displayName": "Iman Kianian",
      "userId": "09329643305169804465"
     },
     "user_tz": -270
    },
    "id": "ISOKts740-EN"
   },
   "outputs": [],
   "source": [
    "del images\n",
    "del images_directory\n",
    "del X\n",
    "del X_val_addr\n",
    "del y"
   ]
  },
  {
   "cell_type": "markdown",
   "metadata": {
    "id": "k0uPgUixExcA"
   },
   "source": [
    "------------------"
   ]
  },
  {
   "cell_type": "markdown",
   "metadata": {
    "id": "fOfc2NM3EzTl"
   },
   "source": [
    "Data Augmentation and Downsampling:"
   ]
  },
  {
   "cell_type": "code",
   "execution_count": null,
   "metadata": {
    "executionInfo": {
     "elapsed": 7,
     "status": "ok",
     "timestamp": 1660122061980,
     "user": {
      "displayName": "Iman Kianian",
      "userId": "09329643305169804465"
     },
     "user_tz": -270
    },
    "id": "mUoCKEYsE5Pu"
   },
   "outputs": [],
   "source": [
    "def generateimage(img,y,count):\n",
    "    new_X_train = []\n",
    "    new_y_train = []\n",
    "    i = 0\n",
    "    y = np.array(y).reshape((1,))\n",
    "\n",
    "    flow = demo_datagen.flow(img.reshape((1,img.shape[0],img.shape[1],1)),y, batch_size=12)\n",
    "    for batch,ind in flow:\n",
    "        if i>=count:\n",
    "            break\n",
    "        new_X_train.append(batch.reshape((batch.shape[1],batch.shape[2])))\n",
    "        new_y_train.append(ind[0])\n",
    "        i+=1\n",
    "    new_X_train = np.array(new_X_train)\n",
    "    new_y_train = np.array(new_y_train)\n",
    "    return new_X_train,new_y_train"
   ]
  },
  {
   "cell_type": "code",
   "execution_count": null,
   "metadata": {
    "executionInfo": {
     "elapsed": 8,
     "status": "ok",
     "timestamp": 1660122061981,
     "user": {
      "displayName": "Iman Kianian",
      "userId": "09329643305169804465"
     },
     "user_tz": -270
    },
    "id": "OUadIqwPE1_l"
   },
   "outputs": [],
   "source": [
    "def preprocessing(X_train,y_train,downsampling=True,upsampling=True):\n",
    "  new_X = []\n",
    "  new_y = []\n",
    "  new_X_addr = []\n",
    "  counter = collections.Counter(y_train)\n",
    "  for cls in Categories:\n",
    "    print(cls)\n",
    "    if counter[cls] > np.round(np.mean(list(counter.values()))) :\n",
    "      select_prob = (np.round(np.mean(list(counter.values()))) /counter[cls]) +0.3 # 0.3 is constant\n",
    "      for ind , x in enumerate(X_train):\n",
    "        if y_train[ind] == cls:\n",
    "            if downsampling:\n",
    "                choise = choices([1,0], [select_prob,1-select_prob])\n",
    "                if choise==[1]:\n",
    "                    new_X.append(x)\n",
    "                    new_y.append(cls)\n",
    "                    new_X_addr.append(X_train_addr[ind])\n",
    "            else:\n",
    "                new_X.append(x)\n",
    "                new_y.append(cls)\n",
    "                new_X_addr.append(X_addr[ind])\n",
    "\n",
    "\n",
    "\n",
    "    if counter[cls] < np.round(np.mean(list(counter.values()))):\n",
    "      if upsampling:\n",
    "        generate_number = int(np.round(np.round(np.mean(list(counter.values()))) /counter[cls]))\n",
    "        for ind , x in enumerate(X_train):\n",
    "          if y_train[ind] == cls:\n",
    "            n_x,n_y = generateimage(x ,y_train[ind],generate_number)\n",
    "            for xx in n_x:\n",
    "                new_X.append(xx)\n",
    "                new_y.append(cls)\n",
    "                new_X_addr.append(X_train_addr[ind])\n",
    "            new_X.append(x)\n",
    "            new_y.append(cls)\n",
    "            new_X_addr.append(X_train_addr[ind])\n",
    "      else:\n",
    "        for ind , x in enumerate(X_train):\n",
    "          if y_train[ind] == cls:\n",
    "            new_X.append(x)\n",
    "            new_y.append(cls)\n",
    "            new_X_addr.append(X_train_addr[ind])\n",
    "            \n",
    "          \n",
    "  new_X = np.array(new_X)\n",
    "  new_y = np.array(new_y)\n",
    "  new_X_addr = np.array(new_X_addr)\n",
    "  return new_X,new_y,new_X_addr"
   ]
  },
  {
   "cell_type": "markdown",
   "metadata": {},
   "source": [
    "### parameters of augmentation"
   ]
  },
  {
   "cell_type": "code",
   "execution_count": null,
   "metadata": {
    "executionInfo": {
     "elapsed": 8,
     "status": "ok",
     "timestamp": 1660122061982,
     "user": {
      "displayName": "Iman Kianian",
      "userId": "09329643305169804465"
     },
     "user_tz": -270
    },
    "id": "tRzftRcNGgjt"
   },
   "outputs": [],
   "source": [
    "demo_datagen = ImageDataGenerator(\n",
    "    rotation_range=90,\n",
    "    width_shift_range=0.2,\n",
    "    height_shift_range=0.2,\n",
    "    zoom_range=0.2,\n",
    "    fill_mode='nearest',\n",
    "    horizontal_flip=True,\n",
    "    vertical_flip=True\n",
    ")"
   ]
  },
  {
   "cell_type": "code",
   "execution_count": null,
   "metadata": {
    "colab": {
     "base_uri": "https://localhost:8080/"
    },
    "executionInfo": {
     "elapsed": 3304,
     "status": "ok",
     "timestamp": 1660122065278,
     "user": {
      "displayName": "Iman Kianian",
      "userId": "09329643305169804465"
     },
     "user_tz": -270
    },
    "id": "m7i7RewkNaaN",
    "outputId": "1a9beb36-2acb-4928-fe17-33b21470cae8"
   },
   "outputs": [],
   "source": [
    "new_X_train, new_y_train, new_X_addr = preprocessing(X_train,y_train,downsampling=True,upsampling=True)"
   ]
  },
  {
   "cell_type": "markdown",
   "metadata": {},
   "source": [
    "Count of images from each class in training set after upsampling and downsampling:"
   ]
  },
  {
   "cell_type": "code",
   "execution_count": null,
   "metadata": {
    "colab": {
     "base_uri": "https://localhost:8080/"
    },
    "executionInfo": {
     "elapsed": 7,
     "status": "ok",
     "timestamp": 1660122065278,
     "user": {
      "displayName": "Iman Kianian",
      "userId": "09329643305169804465"
     },
     "user_tz": -270
    },
    "id": "jPuQHkOiGk2u",
    "outputId": "d818d80a-7fc3-44ce-cda2-90af3f1b76ff"
   },
   "outputs": [],
   "source": [
    "counter = collections.Counter(new_y_train)\n",
    "counter"
   ]
  },
  {
   "cell_type": "code",
   "execution_count": null,
   "metadata": {
    "colab": {
     "base_uri": "https://localhost:8080/",
     "height": 663
    },
    "executionInfo": {
     "elapsed": 1135,
     "status": "ok",
     "timestamp": 1660122066409,
     "user": {
      "displayName": "Iman Kianian",
      "userId": "09329643305169804465"
     },
     "user_tz": -270
    },
    "id": "5k3FEobROUm2",
    "outputId": "131d453c-9c37-4ecf-a2de-37d235b70739"
   },
   "outputs": [],
   "source": [
    "plt.figure(figsize=(16,12))\n",
    "for n , i in enumerate(list(np.random.randint(0,len(new_X_train),12))) : \n",
    "  plt.subplot(3,4,n+1)\n",
    "  plt.imshow(new_X_train[i],cmap=\"gray\")   \n",
    "  plt.axis('off')\n",
    "  plt.title(new_y_train[i])"
   ]
  },
  {
   "cell_type": "code",
   "execution_count": null,
   "metadata": {
    "executionInfo": {
     "elapsed": 13,
     "status": "ok",
     "timestamp": 1660122066410,
     "user": {
      "displayName": "Iman Kianian",
      "userId": "09329643305169804465"
     },
     "user_tz": -270
    },
    "id": "9rAWLPapaMql"
   },
   "outputs": [],
   "source": [
    "def Gray3channel(X):\n",
    "  listt = []\n",
    "  for i,x in enumerate(X):\n",
    "    listt.append(cv2.merge([x,x,x]))\n",
    "  return np.array(listt)"
   ]
  },
  {
   "cell_type": "code",
   "execution_count": null,
   "metadata": {
    "executionInfo": {
     "elapsed": 12,
     "status": "ok",
     "timestamp": 1660122066409,
     "user": {
      "displayName": "Iman Kianian",
      "userId": "09329643305169804465"
     },
     "user_tz": -270
    },
    "id": "q1giFqkO1mmY"
   },
   "outputs": [],
   "source": [
    "del X_train\n",
    "del y_train"
   ]
  },
  {
   "cell_type": "code",
   "execution_count": null,
   "metadata": {
    "colab": {
     "base_uri": "https://localhost:8080/"
    },
    "executionInfo": {
     "elapsed": 1965,
     "status": "ok",
     "timestamp": 1660122068363,
     "user": {
      "displayName": "Iman Kianian",
      "userId": "09329643305169804465"
     },
     "user_tz": -270
    },
    "id": "QbSUN9cFa0-S",
    "outputId": "8c20631c-3b91-4b78-dc88-249a1a4bd3b9",
    "scrolled": true
   },
   "outputs": [],
   "source": [
    "Gray3channel(new_X_train).shape"
   ]
  },
  {
   "cell_type": "code",
   "execution_count": null,
   "metadata": {
    "executionInfo": {
     "elapsed": 17,
     "status": "ok",
     "timestamp": 1660122068364,
     "user": {
      "displayName": "Iman Kianian",
      "userId": "09329643305169804465"
     },
     "user_tz": -270
    },
    "id": "w7irDy2oalnC"
   },
   "outputs": [],
   "source": [
    "def ReshapeGrey(X):\n",
    "  return X.reshape((X.shape[0],X.shape[1],X.shape[2],1))"
   ]
  },
  {
   "cell_type": "code",
   "execution_count": null,
   "metadata": {
    "colab": {
     "base_uri": "https://localhost:8080/"
    },
    "executionInfo": {
     "elapsed": 16,
     "status": "ok",
     "timestamp": 1660122068364,
     "user": {
      "displayName": "Iman Kianian",
      "userId": "09329643305169804465"
     },
     "user_tz": -270
    },
    "id": "LIL_KOm6ayf2",
    "outputId": "ee5d30ae-0a92-4771-9763-ac56d85aeae9"
   },
   "outputs": [],
   "source": [
    "ReshapeGrey(new_X_train).shape"
   ]
  },
  {
   "cell_type": "code",
   "execution_count": null,
   "metadata": {
    "executionInfo": {
     "elapsed": 12,
     "status": "ok",
     "timestamp": 1660122068364,
     "user": {
      "displayName": "Iman Kianian",
      "userId": "09329643305169804465"
     },
     "user_tz": -270
    },
    "id": "K5DeyRrqbZd5"
   },
   "outputs": [],
   "source": [
    "encoder = LabelEncoder()\n",
    "encoder.fit(new_y_train)\n",
    "encoded_labels_train = encoder.transform(new_y_train)\n",
    "encoded_labels_test = encoder.transform(y_test)\n",
    "encoded_labels_val = encoder.transform(y_val)\n",
    "\n",
    "OneHot_labels_train = to_categorical(encoded_labels_train,num_classes=len(Categories))\n",
    "OneHot_labels_test = to_categorical(encoded_labels_test,num_classes=len(Categories))\n",
    "OneHot_labels_val = to_categorical(encoded_labels_val,num_classes=len(Categories))"
   ]
  },
  {
   "cell_type": "code",
   "execution_count": null,
   "metadata": {
    "colab": {
     "base_uri": "https://localhost:8080/"
    },
    "executionInfo": {
     "elapsed": 13,
     "status": "ok",
     "timestamp": 1660122068365,
     "user": {
      "displayName": "Iman Kianian",
      "userId": "09329643305169804465"
     },
     "user_tz": -270
    },
    "id": "0_TGGFRafn-D",
    "outputId": "5193589a-8f6f-43e6-bf10-61f604c678d6"
   },
   "outputs": [],
   "source": [
    "new_y_train"
   ]
  },
  {
   "cell_type": "code",
   "execution_count": null,
   "metadata": {
    "colab": {
     "base_uri": "https://localhost:8080/"
    },
    "executionInfo": {
     "elapsed": 10,
     "status": "ok",
     "timestamp": 1660122068365,
     "user": {
      "displayName": "Iman Kianian",
      "userId": "09329643305169804465"
     },
     "user_tz": -270
    },
    "id": "9RKpsELQbSdg",
    "outputId": "e015fdcd-2653-448a-c87f-9c5da4ff4b12"
   },
   "outputs": [],
   "source": [
    "OneHot_labels_train.shape"
   ]
  },
  {
   "cell_type": "markdown",
   "metadata": {
    "id": "yP4i8sZwaNmU"
   },
   "source": [
    "------------------"
   ]
  },
  {
   "cell_type": "code",
   "execution_count": null,
   "metadata": {
    "executionInfo": {
     "elapsed": 8,
     "status": "ok",
     "timestamp": 1660122068365,
     "user": {
      "displayName": "Iman Kianian",
      "userId": "09329643305169804465"
     },
     "user_tz": -270
    },
    "id": "A9bsxdE96HCp"
   },
   "outputs": [],
   "source": [
    "def labelwithoutput(output):\n",
    "  listt = []\n",
    "  for o in output:\n",
    "    listt.append(np.argmax(o))\n",
    "  return np.array(listt)"
   ]
  },
  {
   "cell_type": "markdown",
   "metadata": {
    "id": "w-2aBRF0hIoW"
   },
   "source": [
    "# **Method 1 - MobileNet**"
   ]
  },
  {
   "cell_type": "code",
   "execution_count": null,
   "metadata": {
    "colab": {
     "base_uri": "https://localhost:8080/"
    },
    "executionInfo": {
     "elapsed": 1268,
     "status": "ok",
     "timestamp": 1660125878188,
     "user": {
      "displayName": "Iman Kianian",
      "userId": "09329643305169804465"
     },
     "user_tz": -270
    },
    "id": "0K7J1gGogt3y",
    "outputId": "d5fc407a-0f8b-42b9-b193-f40c04bff3d3"
   },
   "outputs": [],
   "source": [
    "mobilenet_model =MobileNet(input_shape = (150, 150, 3),include_top = False, weights = 'imagenet')\n",
    "mobilenet_output = GlobalAveragePooling2D()(mobilenet_model.output)\n",
    "mobilenet_output = Dense(32, activation='relu')(mobilenet_output)\n",
    "mobilenet_output = Dense(16, activation='relu')(mobilenet_output)\n",
    "mobilenet_output = Dense(10, activation='softmax')(mobilenet_output)\n",
    "mobilenetmodel=Model(inputs=[mobilenet_model.input],outputs=mobilenet_output)\n",
    "mobilenetmodel.summary()"
   ]
  },
  {
   "cell_type": "code",
   "execution_count": null,
   "metadata": {
    "executionInfo": {
     "elapsed": 2,
     "status": "ok",
     "timestamp": 1660124152036,
     "user": {
      "displayName": "Iman Kianian",
      "userId": "09329643305169804465"
     },
     "user_tz": -270
    },
    "id": "huLt22r-F0s-"
   },
   "outputs": [],
   "source": [
    "def scheduler(epoch, lr):\n",
    "    if epoch < 5:\n",
    "        return lr\n",
    "    else:\n",
    "        return lr * tf.math.exp(-0.1)\n",
    "callback = tf.keras.callbacks.LearningRateScheduler(scheduler)"
   ]
  },
  {
   "cell_type": "code",
   "execution_count": null,
   "metadata": {
    "colab": {
     "base_uri": "https://localhost:8080/"
    },
    "executionInfo": {
     "elapsed": 389568,
     "status": "ok",
     "timestamp": 1660126306163,
     "user": {
      "displayName": "Iman Kianian",
      "userId": "09329643305169804465"
     },
     "user_tz": -270
    },
    "id": "UN7Lwadhgepz",
    "outputId": "51cf60f9-c895-4be2-dd8c-b7db9e8dd77a",
    "scrolled": true
   },
   "outputs": [],
   "source": [
    "opt = tf.keras.optimizers.Adam(learning_rate=0.001)\n",
    "\n",
    "filepath = 'filepath/callback.h5'\n",
    "\n",
    "checkpoint = ModelCheckpoint(filepath, \n",
    "                                monitor = 'val_loss', \n",
    "                                save_best_only=True, \n",
    "                                verbose = 1)\n",
    "\n",
    "mobilenetmodel.compile(optimizer = opt,\n",
    "                       loss = 'binary_crossentropy',\n",
    "                       metrics = ['accuracy'])\n",
    "\n",
    "history = mobilenetmodel.fit(Gray3channel(new_X_train),\n",
    "                             OneHot_labels_train,\n",
    "                             validation_data = (Gray3channel(X_val), OneHot_labels_val),\n",
    "                             epochs = 40,callbacks=[callback,checkpoint],\n",
    "                             verbose = 1)"
   ]
  },
  {
   "cell_type": "code",
   "execution_count": null,
   "metadata": {
    "executionInfo": {
     "elapsed": 1772,
     "status": "ok",
     "timestamp": 1660126378628,
     "user": {
      "displayName": "Iman Kianian",
      "userId": "09329643305169804465"
     },
     "user_tz": -270
    },
    "id": "g4z71YjnPd6a"
   },
   "outputs": [],
   "source": [
    "#mobilenetmodel.load_weights('/content/gdrive/MyDrive/Cyano/callback.h5')"
   ]
  },
  {
   "cell_type": "markdown",
   "metadata": {},
   "source": [
    "--------------"
   ]
  },
  {
   "cell_type": "markdown",
   "metadata": {},
   "source": [
    "#### Load Fine-tuned MobileNet"
   ]
  },
  {
   "cell_type": "code",
   "execution_count": null,
   "metadata": {},
   "outputs": [],
   "source": [
    "mobilenetmodel.load_weights('https://github.com/iman2693/CTCB/blob/main/weights/Model1%20-%20MobileNet/mobilenet.h5')"
   ]
  },
  {
   "cell_type": "markdown",
   "metadata": {},
   "source": [
    "------------"
   ]
  },
  {
   "cell_type": "code",
   "execution_count": null,
   "metadata": {
    "colab": {
     "base_uri": "https://localhost:8080/",
     "height": 626
    },
    "executionInfo": {
     "elapsed": 2547,
     "status": "ok",
     "timestamp": 1660126382724,
     "user": {
      "displayName": "Iman Kianian",
      "userId": "09329643305169804465"
     },
     "user_tz": -270
    },
    "id": "wpsWd0lHmD78",
    "outputId": "dc17acae-ab4b-4bde-c794-be2979463efb"
   },
   "outputs": [],
   "source": [
    "test_Loss, test_Acc = mobilenetmodel.evaluate(Gray3channel(X_test),OneHot_labels_test)\n",
    "print('Test Loss:', test_Loss)\n",
    "print('Test Accuracy :', test_Acc)\n",
    "Y_pred = mobilenetmodel.predict(Gray3channel(X_test))\n",
    "Y_pred = encoder.inverse_transform(labelwithoutput(Y_pred))\n",
    "print(classification_report(y_test, Y_pred,digits=4))\n",
    "disp = ConfusionMatrixDisplay(confusion_matrix(y_test, Y_pred),display_labels=[cl[:3].upper() for cl in Categories])\n",
    "fig, ax = plt.subplots(figsize=(10,10))\n",
    "\n",
    "disp.plot(ax=ax,cmap='Blues')\n",
    "plt.savefig(\"filepath/MobileNet-Confusion.svg\")\n",
    "plt.show()"
   ]
  },
  {
   "cell_type": "code",
   "execution_count": null,
   "metadata": {},
   "outputs": [],
   "source": [
    "# Add data\n",
    "epochs = [f'{str(i)}' for i in range(1,41)]\n",
    "val_loss = history.history['val_loss']\n",
    "val_accuracy = history.history['val_accuracy']\n",
    "train_loss = history.history['loss']\n",
    "train_accuracy = history.history['accuracy']\n",
    "\n",
    "fig = go.Figure()\n",
    "# Create and style traces\n",
    "fig.add_trace(go.Scatter(x=epochs, y=train_accuracy, name='Train Accuracy',\n",
    "                         line=dict(color='firebrick', width=4)))\n",
    "fig.add_trace(go.Scatter(x=epochs, y=val_loss, name = 'Val Loss',\n",
    "                         line=dict(color='royalblue', width=4 , dash='dash')))\n",
    "fig.add_trace(go.Scatter(x=epochs, y=train_loss, name='Train Loss',\n",
    "                         line=dict(color='firebrick', width=4,\n",
    "                              dash='dash') # dash options include 'dash', 'dot', and 'dashdot'\n",
    "))\n",
    "fig.add_trace(go.Scatter(x=epochs, y=val_accuracy, name='Val Accuracy',\n",
    "                         line = dict(color='royalblue', width=4)))\n",
    "\n",
    "# Edit the layout\n",
    "fig.update_layout(title='Epoch/Loss plot',\n",
    "                   xaxis_title='Epochs',\n",
    "                   yaxis_title='Loss / Accuracy (%)')\n",
    "\n",
    "fig.show()"
   ]
  },
  {
   "cell_type": "code",
   "execution_count": null,
   "metadata": {
    "executionInfo": {
     "elapsed": 8803,
     "status": "ok",
     "timestamp": 1660125005095,
     "user": {
      "displayName": "Iman Kianian",
      "userId": "09329643305169804465"
     },
     "user_tz": -270
    },
    "id": "5LBMwy7CItWs"
   },
   "outputs": [],
   "source": [
    "new_layer = Flatten()(mobilenetmodel.layers[-4].output)\n",
    "intermediate_layer_model = Model(inputs=mobilenetmodel.input,\n",
    "                                       outputs=new_layer)\n",
    "intermediate_output_train = intermediate_layer_model.predict(Gray3channel(new_X_train))\n",
    "intermediate_output_test = intermediate_layer_model.predict(Gray3channel(X_test))"
   ]
  },
  {
   "cell_type": "code",
   "execution_count": null,
   "metadata": {
    "executionInfo": {
     "elapsed": 4829,
     "status": "ok",
     "timestamp": 1660125046853,
     "user": {
      "displayName": "Iman Kianian",
      "userId": "09329643305169804465"
     },
     "user_tz": -270
    },
    "id": "JYDdhHvHNFty"
   },
   "outputs": [],
   "source": [
    "from sklearn.decomposition import PCA\n",
    "pca = PCA(n_components=100)\n",
    "pca.fit(intermediate_output_train)\n",
    "X_new = pca.transform(intermediate_output_train)\n",
    "X_test_new = pca.transform(intermediate_output_test)"
   ]
  },
  {
   "cell_type": "code",
   "execution_count": null,
   "metadata": {
    "colab": {
     "base_uri": "https://localhost:8080/"
    },
    "executionInfo": {
     "elapsed": 15827,
     "status": "ok",
     "timestamp": 1660123981446,
     "user": {
      "displayName": "Iman Kianian",
      "userId": "09329643305169804465"
     },
     "user_tz": -270
    },
    "id": "eXk5S0GfNb6S",
    "outputId": "7c22e46e-632e-4c15-bacb-d2a732f2097e"
   },
   "outputs": [],
   "source": [
    "import xgboost as xgb\n",
    "\n",
    "xgb_cl = xgb.XGBClassifier(objective=\"binary:logistic\")\n",
    "xgb_cl.fit(X_new, new_y_train)\n",
    "Y_pred = xgb_cl.predict(X_test_new)\n",
    "print(accuracy_score(y_test, Y_pred))\n",
    "print(classification_report(y_test, Y_pred,digits=4))"
   ]
  },
  {
   "cell_type": "code",
   "execution_count": null,
   "metadata": {
    "colab": {
     "base_uri": "https://localhost:8080/"
    },
    "executionInfo": {
     "elapsed": 1947,
     "status": "ok",
     "timestamp": 1660123983390,
     "user": {
      "displayName": "Iman Kianian",
      "userId": "09329643305169804465"
     },
     "user_tz": -270
    },
    "id": "SuFpyjqDN6GX",
    "outputId": "51450866-1f68-4d77-cdbb-9088a1d833a4"
   },
   "outputs": [],
   "source": [
    "from sklearn.ensemble import RandomForestClassifier\n",
    "clf = RandomForestClassifier(max_depth=100, random_state=0)\n",
    "clf.fit(X_new, new_y_train)\n",
    "Y_pred = clf.predict(X_test_new)\n",
    "print(accuracy_score(y_test, Y_pred))\n",
    "print(classification_report(y_test, Y_pred,digits=4))"
   ]
  },
  {
   "cell_type": "code",
   "execution_count": null,
   "metadata": {
    "colab": {
     "base_uri": "https://localhost:8080/"
    },
    "executionInfo": {
     "elapsed": 308,
     "status": "ok",
     "timestamp": 1660124007356,
     "user": {
      "displayName": "Iman Kianian",
      "userId": "09329643305169804465"
     },
     "user_tz": -270
    },
    "id": "lOnaIr3IOBp7",
    "outputId": "81a8a8fc-f6c7-465a-f3c8-b9ff739e7750"
   },
   "outputs": [],
   "source": [
    "from sklearn.neighbors import KNeighborsClassifier\n",
    "neigh = KNeighborsClassifier(n_neighbors=3)\n",
    "neigh.fit(X_new, new_y_train)\n",
    "Y_pred = neigh.predict(X_test_new)\n",
    "print(accuracy_score(y_test, Y_pred))\n",
    "print(classification_report(y_test, Y_pred,digits=4))"
   ]
  },
  {
   "cell_type": "code",
   "execution_count": null,
   "metadata": {},
   "outputs": [],
   "source": [
    "from sklearn.naive_bayes import GaussianNB\n",
    "clf = GaussianNB()\n",
    "clf.fit(X_new, new_y_train)\n",
    "Y_pred = clf.predict(X_test_new)\n",
    "print(accuracy_score(y_test, Y_pred))\n",
    "print(classification_report(y_test, Y_pred,digits=4))"
   ]
  },
  {
   "cell_type": "code",
   "execution_count": null,
   "metadata": {
    "colab": {
     "base_uri": "https://localhost:8080/"
    },
    "executionInfo": {
     "elapsed": 355,
     "status": "ok",
     "timestamp": 1660125053966,
     "user": {
      "displayName": "Iman Kianian",
      "userId": "09329643305169804465"
     },
     "user_tz": -270
    },
    "id": "S1Dxt_EoPRhv",
    "outputId": "abc0a62a-1a2b-4dc6-b10e-fa71414b1217"
   },
   "outputs": [],
   "source": [
    "from sklearn.svm import SVC\n",
    "clf = SVC(kernel='rbf')\n",
    "clf.fit(X_new, new_y_train)\n",
    "Y_pred = clf.predict(X_test_new)\n",
    "print(accuracy_score(y_test, Y_pred))\n",
    "print(classification_report(y_test, Y_pred,digits=4))"
   ]
  },
  {
   "cell_type": "code",
   "execution_count": null,
   "metadata": {},
   "outputs": [],
   "source": [
    "from sklearn.neural_network import MLPClassifier\n",
    "clf = MLPClassifier(random_state=0, max_iter=300).fit(X_new, new_y_train)\n",
    "Y_pred = clf.predict(X_test_new)\n",
    "print(accuracy_score(y_test, Y_pred))\n",
    "print(classification_report(y_test, Y_pred,digits=4))"
   ]
  },
  {
   "cell_type": "markdown",
   "metadata": {},
   "source": [
    "Save Weights of model:"
   ]
  },
  {
   "cell_type": "code",
   "execution_count": null,
   "metadata": {
    "executionInfo": {
     "elapsed": 353,
     "status": "ok",
     "timestamp": 1660124954332,
     "user": {
      "displayName": "Iman Kianian",
      "userId": "09329643305169804465"
     },
     "user_tz": -270
    },
    "id": "IY-Uu8YMrtyd"
   },
   "outputs": [],
   "source": [
    "#mobilenetmodel.save_weights('filepath/mobilenetweights.h5') "
   ]
  },
  {
   "cell_type": "markdown",
   "metadata": {
    "id": "vYs2Iz1DoCAj"
   },
   "source": [
    "-----------------------------"
   ]
  }
 ],
 "metadata": {
  "accelerator": "GPU",
  "colab": {
   "collapsed_sections": [],
   "name": "Copy of Vgg16 and Vgg16+SVM.ipynb",
   "provenance": []
  },
  "gpuClass": "standard",
  "kernelspec": {
   "display_name": "Python 3",
   "language": "python",
   "name": "python3"
  },
  "language_info": {
   "codemirror_mode": {
    "name": "ipython",
    "version": 3
   },
   "file_extension": ".py",
   "mimetype": "text/x-python",
   "name": "python",
   "nbconvert_exporter": "python",
   "pygments_lexer": "ipython3",
   "version": "3.8.8"
  }
 },
 "nbformat": 4,
 "nbformat_minor": 1
}
